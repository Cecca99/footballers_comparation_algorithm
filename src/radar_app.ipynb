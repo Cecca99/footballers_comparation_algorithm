{
  "nbformat": 4,
  "nbformat_minor": 0,
  "metadata": {
    "colab": {
      "provenance": []
    },
    "kernelspec": {
      "name": "python3",
      "display_name": "Python 3"
    },
    "language_info": {
      "name": "python"
    }
  },
  "cells": [
    {
      "cell_type": "markdown",
      "source": [
        "# **App Creation**"
      ],
      "metadata": {
        "id": "EC6esG3dsFDf"
      }
    },
    {
      "cell_type": "markdown",
      "source": [
        "An application that allows you to compare all defenders with Acerbi from the perspective of different statistics and also gives a similarity score with the Inter defender may be useful."
      ],
      "metadata": {
        "id": "COUKlhUtsa-h"
      }
    },
    {
      "cell_type": "markdown",
      "source": [
        "## **Installing dependencies**"
      ],
      "metadata": {
        "id": "6o16uqITsc0i"
      }
    },
    {
      "cell_type": "code",
      "execution_count": 1,
      "metadata": {
        "id": "qEi0EaVaNGa8"
      },
      "outputs": [],
      "source": [
        "!pip install streamlit &> /dev/null\n",
        "!pip install dill &> /dev/null\n",
        "!pip install soccerplots &> /dev/null"
      ]
    },
    {
      "cell_type": "code",
      "source": [
        "from google.colab import drive\n",
        "drive.mount('/content/drive')"
      ],
      "metadata": {
        "colab": {
          "base_uri": "https://localhost:8080/"
        },
        "id": "1D14jBwENuQ7",
        "outputId": "1276794b-d251-4377-e731-053608355c96"
      },
      "execution_count": 3,
      "outputs": [
        {
          "output_type": "stream",
          "name": "stdout",
          "text": [
            "Mounted at /content/drive\n"
          ]
        }
      ]
    },
    {
      "cell_type": "markdown",
      "source": [
        "Firstly, we create the *.py* file which allow us to create ranges for the radar chart."
      ],
      "metadata": {
        "id": "lMn56CEPtYDu"
      }
    },
    {
      "cell_type": "code",
      "source": [
        "%%writefile ranges.py\n",
        "import pandas as pd\n",
        "import dill\n",
        "\n",
        "path = '/content/drive/MyDrive/DC_Inter/data/'\n",
        "with open(path+'not_sorted_defenders.pkl','rb') as f:\n",
        "    players_stats = dill.load(f)\n",
        "\n",
        "params = ['progressive_passes_per90', 'tackles_per90',\n",
        " 'tackles_won_per90', 'blocks_per90', 'shots_blocked_per90', 'interceptions_per90', 'tackles_interceptions_per90', 'clearances_per90', 'ball_recoveries_per90', 'aerial_duels_per90',\n",
        "'fouls_committed_per90']\n",
        "\n",
        "def make_ranges(player1, player2, params=params):\n",
        "  ranges = []\n",
        "  for x in params:\n",
        "    a = min(players_stats[(players_stats['Player']== player1) | (players_stats['Player']== player2)][params][x])\n",
        "    a = a - (a*.25)\n",
        "\n",
        "    b = max(players_stats[(players_stats['Player']== player1) | (players_stats['Player']== player2)][params][x])\n",
        "    b = b + (b*.25)\n",
        "\n",
        "    ranges.append((a,b))\n",
        "  return ranges"
      ],
      "metadata": {
        "colab": {
          "base_uri": "https://localhost:8080/"
        },
        "id": "0CW7c-KxOI5w",
        "outputId": "7b25e253-c309-4050-93e0-73860d779baa"
      },
      "execution_count": 9,
      "outputs": [
        {
          "output_type": "stream",
          "name": "stdout",
          "text": [
            "Overwriting ranges.py\n"
          ]
        }
      ]
    },
    {
      "cell_type": "markdown",
      "source": [
        "Next, we write the code which allow us to create the radar chart."
      ],
      "metadata": {
        "id": "4PQOAoK-tiNB"
      }
    },
    {
      "cell_type": "code",
      "source": [
        "%%writefile radar.py\n",
        "from ranges import make_ranges\n",
        "import pandas as pd\n",
        "import matplotlib.pyplot as plt\n",
        "from soccerplots.radar_chart import Radar\n",
        "import dill\n",
        "\n",
        "path = '/content/drive/MyDrive/DC_Inter/data/'\n",
        "with open(path+'not_sorted_defenders.pkl','rb') as f:\n",
        "    players_stats = dill.load(f)\n",
        "\n",
        "params = ['progressive_passes_per90', 'tackles_per90',\n",
        " 'tackles_won_per90', 'blocks_per90', 'shots_blocked_per90', 'interceptions_per90', 'tackles_interceptions_per90', 'clearances_per90', 'ball_recoveries_per90', 'aerial_duels_per90',\n",
        "'fouls_committed_per90']\n",
        "\n",
        "def make_radar(player1, player2, params = params):\n",
        "  player1_values = players_stats[(players_stats['Player']== player1)][params].values.tolist()[0]\n",
        "  player2_values = players_stats[(players_stats['Player']== player2)][params].values.tolist()[0]\n",
        "  values = [player1_values, player2_values]\n",
        "  title = dict(\n",
        "    title_name=player1,\n",
        "    title_color='red',\n",
        "    subtitle_name=players_stats[players_stats['Player'] == player1]['Team'].values[0],\n",
        "    subtitle_color='red',\n",
        "    title_name_2=player2,\n",
        "    title_color_2='blue',\n",
        "    subtitle_name_2=players_stats[players_stats['Player'] == player2]['Team'].values[0],\n",
        "    subtitle_color_2='blue',\n",
        "    title_fontsize=18,\n",
        "    subtitle_fontsize=15,\n",
        ")\n",
        "  endnote = f\"Similarity score: {round(players_stats[players_stats['Player'] == player2]['distance from acerbi'].values[0],3)}\\nVisualization made by Cristian Ceccarelli\\nAll the stats are per90 and refer to the 2022/2023 season\\nThe lower the similarity score, the more similar the players are\\nNOTE: The similarity score was computed on ALL the statistics from which you can choose .\"\n",
        "  radar = Radar()\n",
        "  return radar.plot_radar(ranges = make_ranges(player1, player2, params),\n",
        "                          params =params,\n",
        "                          values = values,\n",
        "                          title = title,\n",
        "                          endnote=endnote,\n",
        "                          radar_color = ['red', 'blue'],\n",
        "                          compare = True)"
      ],
      "metadata": {
        "colab": {
          "base_uri": "https://localhost:8080/"
        },
        "id": "78iyH-4aO9Hl",
        "outputId": "c929baf8-304d-4c85-8e8d-9c9c1316c803"
      },
      "execution_count": 10,
      "outputs": [
        {
          "output_type": "stream",
          "name": "stdout",
          "text": [
            "Overwriting radar.py\n"
          ]
        }
      ]
    },
    {
      "cell_type": "markdown",
      "source": [
        "Finally we write the file which allow us to create the webpage."
      ],
      "metadata": {
        "id": "dQr4qNo9upZx"
      }
    },
    {
      "cell_type": "code",
      "source": [
        "%%writefile app.py\n",
        "import streamlit as st\n",
        "from radar import make_radar\n",
        "import dill\n",
        "\n",
        "path = '/content/drive/MyDrive/DC_Inter/data/'\n",
        "with open(path+'not_sorted_defenders.pkl','rb') as f:\n",
        "    players_stats = dill.load(f)\n",
        "\n",
        "\n",
        "params = ['progressive_passes_per90', 'tackles_per90',\n",
        " 'tackles_won_per90', 'blocks_per90', 'shots_blocked_per90', 'interceptions_per90', 'tackles_interceptions_per90', 'clearances_per90', 'ball_recoveries_per90', 'aerial_duels_per90',\n",
        "'fouls_committed_per90']\n",
        "\n",
        "\n",
        "\n",
        "st.header('Compare defenders with Francesco Acerbi', divider='red')\n",
        "st.write(\"Choose a defender to compare with Acerbi and at least 3 statistics on which to compare the two players.\")\n",
        "league = st.selectbox(label = 'Select a league', options = list(players_stats['League'].unique()))\n",
        "\n",
        "if league:\n",
        "  team = st.selectbox(label = 'Select a team', options = list(players_stats[players_stats['League'] == league]['Team'].unique()))\n",
        "  if team:\n",
        "    player = st.selectbox(label = 'Select a player',options=list(players_stats[players_stats['Team'] == team]['Player'].unique()))\n",
        "\n",
        "    if player:\n",
        "      st.write(players_stats[players_stats['Player'] == player][['Player','Team','Born', 'Nation'] + params])\n",
        "      input_params = list(st.multiselect(label = 'Select 3 or more stats on which you want to compare the players', options = list(players_stats.columns)[10:]))\n",
        "      if len(input_params) >= 3:\n",
        "        st.pyplot(fig = make_radar('Francesco Acerbi', player,input_params)[0])\n",
        "      else:\n",
        "        st.pyplot(fig = make_radar('Francesco Acerbi', player, params)[0])\n",
        "\n",
        "st.write(\"The 5 players most similar to Francesco Acerbi are:\")\n",
        "st.write(players_stats.sort_values(by='distance from acerbi')[['Player', 'Team','distance from acerbi']][1:6])\n"
      ],
      "metadata": {
        "colab": {
          "base_uri": "https://localhost:8080/"
        },
        "id": "xktDM5G5PRAk",
        "outputId": "6d27600a-454b-491d-cfc0-9d4b3299b0f2"
      },
      "execution_count": 25,
      "outputs": [
        {
          "output_type": "stream",
          "name": "stdout",
          "text": [
            "Overwriting app.py\n"
          ]
        }
      ]
    },
    {
      "cell_type": "markdown",
      "source": [
        "## **Accessing the webpage**"
      ],
      "metadata": {
        "id": "HzjiyjJkuwAk"
      }
    },
    {
      "cell_type": "code",
      "source": [
        "!wget -q -O  - ipv4.icanhazip.com"
      ],
      "metadata": {
        "colab": {
          "base_uri": "https://localhost:8080/"
        },
        "id": "VaoEBQccQcDw",
        "outputId": "4e376691-625c-42dd-a78c-48d3b24bf3e5"
      },
      "execution_count": 23,
      "outputs": [
        {
          "output_type": "stream",
          "name": "stdout",
          "text": [
            "34.91.190.61\n"
          ]
        }
      ]
    },
    {
      "cell_type": "code",
      "source": [
        "!streamlit run /content/app.py &>/content/logs.txt & npx localtunnel --port 8501"
      ],
      "metadata": {
        "colab": {
          "base_uri": "https://localhost:8080/"
        },
        "id": "ffjvug8SQfh9",
        "outputId": "ee01492d-c9dd-4ccc-a2cc-4b6eb3ac9887"
      },
      "execution_count": 27,
      "outputs": [
        {
          "output_type": "stream",
          "name": "stdout",
          "text": [
            "\u001b[K\u001b[?25hnpx: installed 22 in 2.447s\n",
            "your url is: https://neat-owls-begin.loca.lt\n",
            "^C\n"
          ]
        }
      ]
    },
    {
      "cell_type": "code",
      "source": [],
      "metadata": {
        "id": "UUcVAA5LK3qr"
      },
      "execution_count": null,
      "outputs": []
    }
  ]
}